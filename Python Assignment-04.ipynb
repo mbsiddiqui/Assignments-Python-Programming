{
 "cells": [
  {
   "cell_type": "code",
   "execution_count": 1,
   "metadata": {},
   "outputs": [
    {
     "name": "stdout",
     "output_type": "stream",
     "text": [
      "Muhammad\n",
      "Bilal\n",
      "Siddiqui\n",
      "20\n",
      "karachi\n",
      "sindh\n",
      "bachelors\n",
      "after update Qualification  master\n",
      "{'first_name': 'Muhammad', 'middle_name': 'Bilal', 'last_name': 'Siddiqui', 'age': '20', 'city': 'karachi', 'province': 'sindh'}\n"
     ]
    }
   ],
   "source": [
    "#Assignment - 04\n",
    "#Task-01\n",
    "\n",
    "\n",
    "dict     = {\n",
    "    \"first_name\" : \"Muhammad\",\n",
    "    \"middle_name\" : \"Bilal\",\n",
    "    \"last_name\" : \"Siddiqui\",\n",
    "    \"age\":\"20\",\n",
    "    \"city\" : \"karachi\",\n",
    "    \"province\" : \"sindh\",\n",
    "}\n",
    "\n",
    "for i in dict.values():\n",
    "    print(i)\n",
    "\n",
    "dict.update({\"qualification\":\"bachelors\"})\n",
    "\n",
    "print(dict[\"qualification\"])\n",
    "\n",
    "dict[\"qualification\"] = \"master\"\n",
    "print(\"after update Qualification \",dict[\"qualification\"])\n",
    "\n",
    "del dict[\"qualification\"]\n",
    "\n",
    "print(dict)"
   ]
  },
  {
   "cell_type": "code",
   "execution_count": 2,
   "metadata": {},
   "outputs": [
    {
     "name": "stdout",
     "output_type": "stream",
     "text": [
      "Name of city is  karachi\n",
      "Country Name is :  Pakistan\n",
      "Approximate population is :  14.91 million\n",
      "Fact of the city is :  Karachi is the Capital of the Pakistani province od Sindh it is the most populous city in Pakistan and fifth-most-populous city proper in the world\n",
      "===================================================================================================================\n",
      "Name of city is  Dubai\n",
      "Country Name is :  UAE\n",
      "Approximate population is :  3.137 million approx\n",
      "Fact of the city is :  Dubai is a city & emirate in the United Arab Emirates known for luxury shopping, ultramodren architecture and a lively nightlife scene\n",
      "===================================================================================================================\n",
      "Name of city is  paris\n",
      "Country Name is :  France\n",
      "Approximate population is :  2.141 million approx\n",
      "Fact of the city is :  Paris, France's capital, is a major European city and a global center for art, fashion gastronomy and culture\n",
      "===================================================================================================================\n"
     ]
    }
   ],
   "source": [
    "#Assignment - 04\n",
    "#Task-02\n",
    "\n",
    "city ={\n",
    "    \"karachi\" : {\n",
    "        \"country\": \"Pakistan\",\n",
    "        \"approximate_population\":\"14.91 million\",\n",
    "        \"fact\":\"Karachi is the Capital of the Pakistani province od Sindh it is the most populous city in Pakistan and fifth-most-populous city proper in the world\"\n",
    "    },\n",
    "    \"Dubai\" : {\n",
    "        \"country\": \"UAE\",\n",
    "        \"approximate_population\":\"3.137 million approx\",\n",
    "        \"fact\":\"Dubai is a city & emirate in the United Arab Emirates known for luxury shopping, ultramodren architecture and a lively nightlife scene\"\n",
    "    },\n",
    "    \"paris\" : {\n",
    "        \"country\": \"France\",\n",
    "        \"approximate_population\":\"2.141 million approx\",\n",
    "        \"fact\":\"Paris, France's capital, is a major European city and a global center for art, fashion gastronomy and culture\"\n",
    "    }\n",
    "}\n",
    "    \n",
    "for i in city.keys():\n",
    "    print(\"Name of city is \", i)\n",
    "    print(\"Country Name is : \" , city[i][\"country\"])\n",
    "    print(\"Approximate population is : \" , city[i][\"approximate_population\"])\n",
    "    print(\"Fact of the city is : \" , city[i][\"fact\"])\n",
    "    print(\"===================================================================================================================\")"
   ]
  },
  {
   "cell_type": "code",
   "execution_count": 3,
   "metadata": {},
   "outputs": [
    {
     "name": "stdout",
     "output_type": "stream",
     "text": [
      "Welcome To NUPLEX Clifton\n",
      "Enter the no. of Person : 3\n",
      "Enter the name of person: Taha\n",
      "Enter The Age Of Person: 23\n",
      "Your Ticket price will be 15$.\n",
      "\n",
      "Enter the name of person: Bilal Siddiqui\n",
      "Enter The Age Of Person: 20\n",
      "Your Ticket price will be 15$.\n",
      "\n",
      "Enter the name of person: Bilal Khurshid\n",
      "Enter The Age Of Person: 25\n",
      "Your Ticket price will be 15$.\n",
      "\n",
      "Total Amount =  45 $ Enjoy Your Movie\n"
     ]
    }
   ],
   "source": [
    "#Assignment - 04\n",
    "#Task-03\n",
    "\n",
    "print(\"Welcome To NUPLEX Clifton\")\n",
    "persons = int(input(\"Enter the no. of Person : \"))\n",
    "\n",
    "total_price = 0\n",
    "\n",
    "for i in range(1,persons+1):\n",
    "    name = input(\"Enter the name of person: \")\n",
    "    age = int(input(\"Enter The Age Of Person: \"))\n",
    "    if age <= 3:\n",
    "        print(\"Your Ticket is Free! Enjoy Your Movie.\\n\")\n",
    "    elif age <= 12:\n",
    "        print(\"Your Ticket price will be 10$.\\n\")\n",
    "        total_price +=10\n",
    "    else:\n",
    "        print(\"Your Ticket price will be 15$.\\n\")\n",
    "        total_price +=15\n",
    "\n",
    "print(\"Total Amount = \",total_price,\"$ Enjoy Your Movie\")"
   ]
  },
  {
   "cell_type": "code",
   "execution_count": 4,
   "metadata": {},
   "outputs": [
    {
     "name": "stdout",
     "output_type": "stream",
     "text": [
      "Enter The Book Title: Art of speaking\n",
      "One of my favorite books is  Art of speaking\n"
     ]
    }
   ],
   "source": [
    "#Assignment - 04\n",
    "#Task-04\n",
    "\n",
    "def favorite_book(book_name):\n",
    "    print(\"One of my favorite books is \",book_name)\n",
    "    \n",
    "title=input(\"Enter The Book Title: \")\n",
    "\n",
    "favorite_book(title)"
   ]
  },
  {
   "cell_type": "code",
   "execution_count": 9,
   "metadata": {},
   "outputs": [
    {
     "name": "stdout",
     "output_type": "stream",
     "text": [
      "Guess the number between 1 to 30 : 14\n",
      "Your guess is too low\n",
      "Guess the number between 1 to 30 : 18\n",
      "Your guess is too low\n",
      "Guess the number between 1 to 30 : 24\n",
      "Congratulation you Win!!\n"
     ]
    }
   ],
   "source": [
    "#Assignment - 04\n",
    "#Task-05\n",
    "\n",
    "import random\n",
    "\n",
    "random_number = random.randrange(1,30)\n",
    "\n",
    "flag = False\n",
    "\n",
    "for i in range(1,4):\n",
    "    guess = int(input(\"Guess the number between 1 to 30 : \"))\n",
    "    if guess == random_number:\n",
    "        flag = True \n",
    "        break\n",
    "    elif guess < random_number:\n",
    "        print(\"Your guess is too low\")\n",
    "    else:\n",
    "        print(\"Your guess is too high\")\n",
    "        \n",
    "if flag:\n",
    "    print(\"Congratulation you Win!!\")\n",
    "else:\n",
    "    print(\"You Loose\")\n",
    "    print(\"Correct Number is \", random_number)"
   ]
  }
 ],
 "metadata": {
  "kernelspec": {
   "display_name": "Python 3",
   "language": "python",
   "name": "python3"
  },
  "language_info": {
   "codemirror_mode": {
    "name": "ipython",
    "version": 3
   },
   "file_extension": ".py",
   "mimetype": "text/x-python",
   "name": "python",
   "nbconvert_exporter": "python",
   "pygments_lexer": "ipython3",
   "version": "3.7.4"
  }
 },
 "nbformat": 4,
 "nbformat_minor": 2
}
