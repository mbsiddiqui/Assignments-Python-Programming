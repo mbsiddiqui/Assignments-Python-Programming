{
 "cells": [
  {
   "cell_type": "code",
   "execution_count": 7,
   "metadata": {},
   "outputs": [
    {
     "name": "stdout",
     "output_type": "stream",
     "text": [
      "Enter the first operand: 8\n",
      "Enter the second operand: 3\n",
      "Enter '+' to add \n",
      " '-' to subtract \n",
      " '*' to multiply \n",
      " '/' to divide \n",
      " 'p' for val1 power val2 \n",
      "P\n",
      "8.0 power 3.0  gives the result of 512.0\n"
     ]
    }
   ],
   "source": [
    "#Assignment 03\n",
    "#Task-01\n",
    "\n",
    "val1 = float(input(\"Enter the first operand: \"))\n",
    "val2 = float(input(\"Enter the second operand: \"))\n",
    "opr = input(\"Enter '+' to add \\n '-' to subtract \\n '*' to multiply \\n '/' to divide \\n 'p' for val1 power val2 \\n\")\n",
    "\n",
    "if opr == '+':\n",
    "    add = val1 + val2\n",
    "    print(\"Addition of\", val1, \"in\", val2, \" gives the result of\", add)\n",
    "elif opr == '-':\n",
    "    sub = val1 - val2\n",
    "    print(\"Subtraction of\", val1, \"from\", val2, \" gives the result of\", sub)\n",
    "elif opr == '*':\n",
    "    mul = val1 * val2\n",
    "    print(\"Multiplication of\", val1, \"and\", val2, \" gives the result of\", mul)\n",
    "elif opr == '/':\n",
    "    div = val1 / val2\n",
    "    print(\"Divison of\", val1, \"from\", val2, \" gives the result of\", div)\n",
    "elif opr == 'p' or opr == 'P':\n",
    "    por = val1 ** val2\n",
    "    print(val1, \"power\", val2, \" gives the result of\", por)\n",
    "else:\n",
    "    print(\"You have selected an undefined operator.\")"
   ]
  },
  {
   "cell_type": "code",
   "execution_count": 67,
   "metadata": {},
   "outputs": [
    {
     "name": "stdout",
     "output_type": "stream",
     "text": [
      "The numeric value of 2 exist in the given list.\n",
      "The numeric value of 0 exist in the given list.\n",
      "The numeric value of 4 exist in the given list.\n",
      "The numeric value of 1 exist in the given list.\n"
     ]
    }
   ],
   "source": [
    "#Assignment 03\n",
    "#Task-02\n",
    "\n",
    "list = [\"ali\", \"kazim\", 'b', 'i', 2, 'l', 'a', 'l', 0, \"akhtar\", \"python\", 4, 1, \"@\", '!']\n",
    "\n",
    "for x in list:\n",
    "    if type(x) == int:  #type() checks the data type of the element\n",
    "        print(\"The numeric value of\", x, \"exist in the given list.\")"
   ]
  },
  {
   "cell_type": "code",
   "execution_count": 68,
   "metadata": {},
   "outputs": [
    {
     "name": "stdout",
     "output_type": "stream",
     "text": [
      "first name : muhammad\n",
      "middle name : bilal\n",
      "last name : siddiqui\n",
      "registration number : SMIT-19-PY-B2-07556\n",
      "course name : \n"
     ]
    }
   ],
   "source": [
    "#Assignment 03\n",
    "#Task-03\n",
    "\n",
    "my_bio = {\"first name\": \"muhammad\", \n",
    "          \"middle name\": \"bilal\", \n",
    "          \"last name\": \"siddiqui\", \n",
    "          \"registration number\": \"SMIT-19-PY-B2-07556\",\n",
    "         }\n",
    "\n",
    "my_bio[\"course name\"] = \"\"\n",
    "\n",
    "#the key (course name) is added to the dict (my_bio) however no value is assigned to it for now\n",
    "for key, value in my_bio.items():     \n",
    "    print(key, \":\", value)"
   ]
  },
  {
   "cell_type": "code",
   "execution_count": 65,
   "metadata": {},
   "outputs": [
    {
     "name": "stdout",
     "output_type": "stream",
     "text": [
      "428\n"
     ]
    }
   ],
   "source": [
    "#Assignment 03\n",
    "#Task-04\n",
    "\n",
    "scores = {\"maths\": 96, \n",
    "          \"science\": 88, \n",
    "          \"english\": 70, \n",
    "          \"urdu\": 81, \n",
    "          \"arts\": 62,\n",
    "          \"history\": 31,\n",
    "         }\n",
    "\n",
    "#printing the sum of all the scores of this dictionary\n",
    "print(sum(scores.values()))"
   ]
  },
  {
   "cell_type": "code",
   "execution_count": 71,
   "metadata": {},
   "outputs": [
    {
     "name": "stdout",
     "output_type": "stream",
     "text": [
      "{1, 2, 4, 6}\n"
     ]
    }
   ],
   "source": [
    "#Assignment 03\n",
    "#Task-05\n",
    "\n",
    "list = [2, 4, 1, 6, 4, 6, 2, 7, 1, 4, 6, 6, 5, 3, 4, 2, 6, 6, 6]\n",
    "unique = set(x for x in list if list.count(x) > 1) #it gives elements from the list that are repeated\n",
    "\n",
    "print(unique)"
   ]
  },
  {
   "cell_type": "code",
   "execution_count": 36,
   "metadata": {},
   "outputs": [
    {
     "name": "stdout",
     "output_type": "stream",
     "text": [
      "Enter a key to be searched for in the dictionary:tutor name\n",
      "The given key is added to the dictionary\n"
     ]
    }
   ],
   "source": [
    "#Assignment 03\n",
    "#Task-06\n",
    "\n",
    "my_data = {\"first name\": \"muhammad\", \n",
    "          \"middle name\": \"bilal\", \n",
    "          \"last name\": \"siddiqui\",\n",
    "          \"course name\": \"python programming\",\n",
    "          \"registration number\": \"SMIT-19-PY-B2-07556\",\n",
    "         }\n",
    "\n",
    "key = input(\"Enter a key to be searched for in the dictionary:\")\n",
    "\n",
    "if key in my_data.keys():\n",
    "    print(\"Given key is present already in the dictionary.\")\n",
    "else:\n",
    "    my_data[key] = \"\"\n",
    "    print(\"The given key is added to the dictionary\")"
   ]
  }
 ],
 "metadata": {
  "kernelspec": {
   "display_name": "Python 3",
   "language": "python",
   "name": "python3"
  },
  "language_info": {
   "codemirror_mode": {
    "name": "ipython",
    "version": 3
   },
   "file_extension": ".py",
   "mimetype": "text/x-python",
   "name": "python",
   "nbconvert_exporter": "python",
   "pygments_lexer": "ipython3",
   "version": "3.7.4"
  }
 },
 "nbformat": 4,
 "nbformat_minor": 2
}
