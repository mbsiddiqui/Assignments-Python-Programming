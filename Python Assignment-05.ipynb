{
 "cells": [
  {
   "cell_type": "code",
   "execution_count": 2,
   "metadata": {},
   "outputs": [
    {
     "name": "stdout",
     "output_type": "stream",
     "text": [
      "Enter a positive number to calculate its factorial: -7\n",
      "Kindly enter a positive number to calculate its factorial.\n"
     ]
    }
   ],
   "source": [
    "#Assignment-05\n",
    "#task - 01\n",
    "\n",
    "def fact(val):\n",
    "    i = 1\n",
    "    fact = 1\n",
    "    while i <= val:\n",
    "        fact *= i\n",
    "        i += 1\n",
    "    return fact\n",
    "\n",
    "num = int(input(\"Enter a positive number to calculate its factorial: \"))\n",
    "if num > 0:\n",
    "    ans = fact(num)\n",
    "    print(\"The factorial of {} is calculated to be: {}\".format(num, ans))\n",
    "else:\n",
    "    print(\"Kindly enter a positive number to calculate its factorial.\")"
   ]
  },
  {
   "cell_type": "code",
   "execution_count": 1,
   "metadata": {},
   "outputs": [
    {
     "name": "stdout",
     "output_type": "stream",
     "text": [
      "Enter a string to check the case of its character's: bILal sIddiQUI\n",
      "The given string contains 6 upper and 7 lower case characters.\n"
     ]
    }
   ],
   "source": [
    "#Assignment-05\n",
    "#task - 02\n",
    "\n",
    "def caseCheck(char):\n",
    "  \n",
    "    if char >= 'A' and char <= 'Z':\n",
    "        return 1\n",
    "    elif char >= 'a' and char <= 'z':\n",
    "        return 0\n",
    "\n",
    "string = input(\"Enter a string to check the case of its character's: \")\n",
    "\n",
    "upper = 0\n",
    "lower = 0\n",
    "\n",
    "for a in range(len(string)):\n",
    "    if caseCheck(string[a]) == 1:\n",
    "        upper += 1\n",
    "    elif caseCheck(string[a]) == 0:\n",
    "        lower += 1\n",
    "\n",
    "print(\"The given string contains {} upper and {} lower case characters.\".format(upper, lower))"
   ]
  },
  {
   "cell_type": "code",
   "execution_count": 2,
   "metadata": {},
   "outputs": [
    {
     "name": "stdout",
     "output_type": "stream",
     "text": [
      "The given list contains following even numbers.\n",
      "2\n",
      "4\n",
      "6\n",
      "8\n",
      "10\n",
      "12\n",
      "12\n",
      "2\n"
     ]
    }
   ],
   "source": [
    "#Assignment-05\n",
    "#task - 03\n",
    "\n",
    "myList = [1, 2, 3, 4, 6, 8, 10, 12, 3, 5, 7, 9, 11, 12, 2, 1] #16 elements\n",
    "print(\"The given list contains following even numbers.\")\n",
    "\n",
    "def evnVal(list):\n",
    "    index = 0\n",
    "    for index in range(len(list)) :\n",
    "        if (list[index] % 2) == 0:\n",
    "            print(list[index])\n",
    "        index += 1\n",
    "\n",
    "evnVal(myList)"
   ]
  },
  {
   "cell_type": "code",
   "execution_count": 9,
   "metadata": {},
   "outputs": [
    {
     "name": "stdout",
     "output_type": "stream",
     "text": [
      "Enter a string to check if it is palindrom: malayalam\n",
      "The given string is a palindrom.\n"
     ]
    }
   ],
   "source": [
    "#Assignment-05\n",
    "#task - 04\n",
    "\n",
    "def reverse(string): \n",
    "    return string[::-1] \n",
    "  \n",
    "def isPalindrome(string): \n",
    "    rev = reverse(string) \n",
    "  \n",
    "    if (string == rev): \n",
    "        return True\n",
    "    return False\n",
    "  \n",
    "str = input(\"Enter a string to check if it is palindrom: \")\n",
    "ans = isPalindrome(str) \n",
    "  \n",
    "if ans == 1: \n",
    "    print(\"The given string is a palindrom.\") \n",
    "if ans == 0: \n",
    "    print(\"The given string is not a palindrom.\") "
   ]
  },
  {
   "cell_type": "code",
   "execution_count": 11,
   "metadata": {},
   "outputs": [
    {
     "name": "stdout",
     "output_type": "stream",
     "text": [
      "Enter a number to check if it is prime: 23\n",
      "The given number is a prime number.\n"
     ]
    }
   ],
   "source": [
    "#Assignment-05\n",
    "#task - 05\n",
    "\n",
    "def isPrime(num):\n",
    "    if (num <= 1): \n",
    "        return False\n",
    "  \n",
    "    for i in range(2, num): \n",
    "        if (num % i == 0): \n",
    "            return False\n",
    "    return True\n",
    "\n",
    "val = int(input(\"Enter a number to check if it is prime: \"))\n",
    "rslt = isPrime(val)\n",
    "\n",
    "if rslt == False:\n",
    "    print(\"The given number is not a prime number.\")\n",
    "if rslt == True:\n",
    "    print(\"The given number is a prime number.\")"
   ]
  },
  {
   "cell_type": "code",
   "execution_count": 4,
   "metadata": {},
   "outputs": [
    {
     "name": "stdout",
     "output_type": "stream",
     "text": [
      "You have added Brush .\n",
      "You have added Soap .\n",
      "You have added Tea .\n",
      "You have added Shampoo .\n",
      "You have added Detergent .\n"
     ]
    }
   ],
   "source": [
    "#Assignment-05\n",
    "#task - 06\n",
    "\n",
    "def shoppingList(*items):\n",
    "    for i in items:\n",
    "        print(\"You have added\", i, \".\")\n",
    "\n",
    "shoppingList('Brush', 'Soap', 'Tea', 'Shampoo', 'Detergent')"
   ]
  },
  {
   "cell_type": "code",
   "execution_count": null,
   "metadata": {},
   "outputs": [],
   "source": []
  }
 ],
 "metadata": {
  "kernelspec": {
   "display_name": "Python 3",
   "language": "python",
   "name": "python3"
  },
  "language_info": {
   "codemirror_mode": {
    "name": "ipython",
    "version": 3
   },
   "file_extension": ".py",
   "mimetype": "text/x-python",
   "name": "python",
   "nbconvert_exporter": "python",
   "pygments_lexer": "ipython3",
   "version": "3.7.4"
  }
 },
 "nbformat": 4,
 "nbformat_minor": 2
}
