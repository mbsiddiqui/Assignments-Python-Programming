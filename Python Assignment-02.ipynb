{
 "cells": [
  {
   "cell_type": "code",
   "execution_count": 5,
   "metadata": {},
   "outputs": [
    {
     "name": "stdout",
     "output_type": "stream",
     "text": [
      "Enter the obtained marks of Science (0-100): 102\n",
      "Enter the obtained marks of English (0-100): 103\n",
      "Enter the obtained marks of Urdu (0-100): 104\n",
      "Enter the obtained marks of P.St (0-100): 105\n",
      "Enter the obtained marks of Mathematics (0-100): 106\n",
      "You have entered invalid marks in one or more subject.\n"
     ]
    }
   ],
   "source": [
    "#Assignment - 02\n",
    "#Task-01\n",
    "\n",
    "sub1 = int (input(\"Enter the obtained marks of Science (0-100): \"));\n",
    "sub2 = int (input(\"Enter the obtained marks of English (0-100): \"));\n",
    "sub3 = int (input(\"Enter the obtained marks of Urdu (0-100): \"));\n",
    "sub4 = int (input(\"Enter the obtained marks of P.St (0-100): \"));\n",
    "sub5 = int (input(\"Enter the obtained marks of Mathematics (0-100): \"));\n",
    "\n",
    "total = sub1+sub2+sub3+sub4+sub5\n",
    "perc = (total/500)*100;\n",
    "\n",
    "if perc > 100:\n",
    "    print (\"You have entered invalid marks in one or more subject.\");\n",
    "if perc <= 100 and perc >=90:\n",
    "    print (\"Congratulations! You got A+ grade.\");\n",
    "if perc < 90 and perc >=80:\n",
    "    print (\"Congratulations! You got A grade.\");\n",
    "if perc < 80 and perc >=70:\n",
    "    print (\"Excellent, You got B grade.\");\n",
    "if perc < 70 and perc >=60:\n",
    "    print (\"You got C grade.\");\n",
    "if perc < 60:\n",
    "    print (\"You got F grade.\")"
   ]
  },
  {
   "cell_type": "code",
   "execution_count": 1,
   "metadata": {},
   "outputs": [
    {
     "name": "stdout",
     "output_type": "stream",
     "text": [
      "Enter an integer to chcek if it is even or odd: 21\n",
      "21  is an odd number.\n"
     ]
    }
   ],
   "source": [
    "#Assignment - 02\n",
    "#Task-02\n",
    "\n",
    "num = int (input(\"Enter an integer to chcek if it is even or odd: \"));\n",
    "\n",
    "if num%2 == 0:\n",
    "    print (num, \" is an even number.\");\n",
    "else:\n",
    "    print (num, \" is an odd number.\");"
   ]
  },
  {
   "cell_type": "code",
   "execution_count": 10,
   "metadata": {},
   "outputs": [
    {
     "name": "stdout",
     "output_type": "stream",
     "text": [
      "The length of the given list is 6\n"
     ]
    }
   ],
   "source": [
    "#Assignment - 02\n",
    "#Task-03\n",
    "\n",
    "scores = [89, 76, 90, 82, 94, 79];\n",
    "length = len(scores);\n",
    "\n",
    "print (\"The length of the given list is\", length);"
   ]
  },
  {
   "cell_type": "code",
   "execution_count": 16,
   "metadata": {},
   "outputs": [
    {
     "name": "stdout",
     "output_type": "stream",
     "text": [
      "The sum of all elements of the given list is 510\n"
     ]
    }
   ],
   "source": [
    "#Assignment - 02\n",
    "#Task-04\n",
    "\n",
    "scores = [89, 76, 90, 82, 94, 79];\n",
    "total = sum(scores);\n",
    "\n",
    "print (\"The sum of all elements of the given list is\", total);"
   ]
  },
  {
   "cell_type": "code",
   "execution_count": 12,
   "metadata": {},
   "outputs": [
    {
     "name": "stdout",
     "output_type": "stream",
     "text": [
      "The largest element in the given list is 96\n"
     ]
    }
   ],
   "source": [
    "#Assignment - 02\n",
    "#Task-05\n",
    "\n",
    "scores = [89, 76, 90, 82, 96, 79];\n",
    "largest = max(scores);\n",
    "\n",
    "print (\"The largest element in the given list is\", largest);"
   ]
  },
  {
   "cell_type": "code",
   "execution_count": 14,
   "metadata": {},
   "outputs": [
    {
     "name": "stdout",
     "output_type": "stream",
     "text": [
      "2\n",
      "4\n",
      "3\n",
      "1\n",
      "1\n",
      "3\n"
     ]
    }
   ],
   "source": [
    "#Assignment - 02\n",
    "#Task-06\n",
    "\n",
    "a = [2, 4, 5, 21, 13, 55, 6, 3, 1, 1, 89, 14, 3];\n",
    "\n",
    "for x in range(len(a)):\n",
    "    if a[x] < 5:\n",
    "        print (a[x]);"
   ]
  },
  {
   "cell_type": "code",
   "execution_count": null,
   "metadata": {},
   "outputs": [],
   "source": []
  }
 ],
 "metadata": {
  "kernelspec": {
   "display_name": "Python 3",
   "language": "python",
   "name": "python3"
  },
  "language_info": {
   "codemirror_mode": {
    "name": "ipython",
    "version": 3
   },
   "file_extension": ".py",
   "mimetype": "text/x-python",
   "name": "python",
   "nbconvert_exporter": "python",
   "pygments_lexer": "ipython3",
   "version": "3.7.4"
  }
 },
 "nbformat": 4,
 "nbformat_minor": 2
}
