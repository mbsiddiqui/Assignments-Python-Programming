{
 "cells": [
  {
   "cell_type": "markdown",
   "metadata": {},
   "source": [
    "Assignment-06\n",
    "task - 01\n",
    "\n",
    "# Object Oriented Programming Language:\n",
    "Object-oriented programming (OOP) refers to a type of computer programming in which programmers define the data type of a data structure, and also the types of operations (functions) that can be applied to the data structure.\n",
    "\n",
    "In this way, the data structure becomes an object that includes both data and functions. In addition, programmers can create relationships between one object and another. For example, objects can inherit characteristics from other objects."
   ]
  },
  {
   "cell_type": "markdown",
   "metadata": {},
   "source": [
    "Assignment-06\n",
    "task - 02\n",
    "\n",
    "# Benefits of Object Oriented Programming Language:\n",
    "Following are some advantages of object oriented programming language over procedural programming language:\n",
    "1. It provides a clear modular structure for programs which makes it good for defining abstract datatypes in which implementation details are hidden.\n",
    "\n",
    "2. Objects can also be reused within other applications. The reuse of software also lowers the cost of development. More effort is put into the object-oriented analysis and design, which lowers the overall cost of development.\n",
    "\n",
    "3. It makes software easier to maintain. Since the design is modular, part of the system can be updated in case of issues without a need to make large-scale changes\n",
    "\n",
    "4. Reuse also enables faster development. Object-oriented programming languages come with rich libraries of objects, and code developed during projects is also reusable in future projects.\n",
    "\n",
    "5. It provides a good framework for code libraries where the supplied software components can be easily adapted and modified by the programmer. This is particularly useful for developing graphical user interfaces.\n",
    "\n",
    "6. Better Productivity is achieved as OOP techniques enforce rules on a programmer that, in the long run, help him get more work done; finished programs work better, have more features and are easier to read and maintain. OOP programmers take new and existing software objects and \"stitch\" them together to make new programs. Because object libraries contain many useful functions, software developers don't have to reinvent the wheel as often; more of their time goes into making the new program."
   ]
  },
  {
   "cell_type": "markdown",
   "metadata": {},
   "source": [
    "Assignment-06\n",
    "task - 03\n",
    "\n",
    "# Differences between Function and Method:\n",
    "Following are the major differences between the two:\n",
    "\n",
    "1. In Python, method is called on an object, unlike a function. For example, we call start() on the object ‘car’. Conversely, we call Python function quite generically- we don’t call it on any object. Since we call a method on an object, it can access the data within it.\n",
    "e.g.\n",
    ">>> class vehicle:\n",
    "  def __init__(self,color):\n",
    "    self.color=color\n",
    "  def start(self):\n",
    "    print(\"Starting engine\")\n",
    "  def showcolor(self):\n",
    "    print(\"I am {self.color}\")\n",
    ">>> car=vehicle('black')\n",
    ">>> car.start()\n",
    "\n",
    "2. A method may alter an object’s state, but function usually only operates on it, and then prints something or returns a value."
   ]
  },
  {
   "cell_type": "markdown",
   "metadata": {},
   "source": [
    "Assignment-06\n",
    "task - 04\n",
    "\n",
    "# Class:\n",
    "It is the category of objects. The class defines all the common properties of the different objects that belong to it.\n",
    "\n",
    "# Object:\n",
    " It is a self-contained entity that consists of both data and procedures to manipulate the data.\n",
    "\n",
    "# Attribute:\n",
    "Attributes are data stored inside a class or instance and represent the state or quality of the class or instance. In short, attributes store information about the instance.\n",
    "For example, color is an attribute of your hair.\n",
    "\n",
    "# Behavior:\n",
    "A class's behavior determines how an instance of that class operates. \n",
    "For example, how it will \"react\" if asked to do something by another class or object or if its internal state changes. Behavior is the only way objects can do anything to themselves or have anything done to them."
   ]
  },
  {
   "cell_type": "code",
   "execution_count": 6,
   "metadata": {},
   "outputs": [
    {
     "name": "stdout",
     "output_type": "stream",
     "text": [
      "Car 1 is manufactured by Honda in the year  2019\n",
      "Its model is Accord having Black color.\n",
      "It has a seating capacity of 5 people. It uses Petrol as fuel.\n",
      "\n",
      "\n",
      "The model of car 3 is: Sportage\n",
      "The color of car 4 is: Mate Black\n"
     ]
    }
   ],
   "source": [
    "#Assignment-06\n",
    "#task-05\n",
    "\n",
    "class Car:\n",
    "    def __init__(self, make, model, color, seatingCapacity, year, fuelType):\n",
    "        self.make = make\n",
    "        self.model = model\n",
    "        self.color = color\n",
    "        self.seatingCapacity = seatingCapacity\n",
    "        self.year = year\n",
    "        self.fuelType = fuelType\n",
    "        \n",
    "    def printData(self, num):\n",
    "        print(\"Car\", num, \"is manufactured by\", self.make,\"in the year \", self.year) \n",
    "        print(\"Its model is\", self.model, \"having\", self.color, \"color.\")\n",
    "        print(\"It has a seating capacity of\", self.seatingCapacity, \"people. It uses\", self.fuelType, \"as fuel.\")\n",
    "        \n",
    "    def updateData(self, make, model, color, seatingCapacity, year, fuelType):\n",
    "        self.make = make\n",
    "        self.model = model\n",
    "        self.color = color\n",
    "        self.seatingCapacity = seatingCapacity\n",
    "        self.year = year\n",
    "        self.fuelType = fuelType\n",
    "        \n",
    "    def printMake(self, num):\n",
    "        print(\"The manufacturer of car\", num, \"is:\", self.make)\n",
    "        \n",
    "    def printModel(self, num):\n",
    "        print(\"The model of car\", num, \"is:\", self.model)\n",
    "    \n",
    "    def printColor(self, num):\n",
    "        print(\"The color of car\", num, \"is:\", self.color)\n",
    "    \n",
    "    def printSeatingCapacity(self, num):\n",
    "        print(\"The seating capacity of car\", num, \"is:\", self.seatingCapacity)\n",
    "    \n",
    "    def printYear(self, num):\n",
    "        print(\"The manufacturing year of car\", num, \"is:\", self.year)\n",
    "    \n",
    "    def printFuelType(self, num):\n",
    "        print(\"Car\", num,  \"uses\", self.make, \"as fuel.\")\n",
    "    \n",
    "\n",
    "car1 = Car(\"Honda\", \"Accord\", \"Black\", 5, 2019, \"Petrol\")\n",
    "car2 = Car(\"Toyota\", \"Vigo\", \"White\", 5, 2017, \"Petrol\")\n",
    "car3 = Car(\"Kia\", \"Sportage\", \"Brown\", 5, 2019, \"Petrol\")\n",
    "car4 = Car(\"Honda\", \"City\", \"Mate Black\", 5, 2019, \"CNG\")\n",
    "car5 = Car(\"Suzuki\", \"Mehran\", \"Gray\", 5, 2015, \"CNG\")\n",
    "\n",
    "car1.printData(1)\n",
    "print(\"\\n\")\n",
    "car3.printModel(3)\n",
    "car4.printColor(4)"
   ]
  }
 ],
 "metadata": {
  "kernelspec": {
   "display_name": "Python 3",
   "language": "python",
   "name": "python3"
  },
  "language_info": {
   "codemirror_mode": {
    "name": "ipython",
    "version": 3
   },
   "file_extension": ".py",
   "mimetype": "text/x-python",
   "name": "python",
   "nbconvert_exporter": "python",
   "pygments_lexer": "ipython3",
   "version": "3.7.4"
  }
 },
 "nbformat": 4,
 "nbformat_minor": 2
}
