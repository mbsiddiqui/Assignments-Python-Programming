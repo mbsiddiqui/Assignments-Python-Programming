{
 "cells": [
  {
   "cell_type": "code",
   "execution_count": 1,
   "metadata": {},
   "outputs": [
    {
     "name": "stdout",
     "output_type": "stream",
     "text": [
      "Twinkle, twinkle, little star,\n",
      "      How I wonder what you are!\n",
      "            Up above the world so high,\n",
      "             Like a diamond in the sky.\n",
      "Twinkle, twinkle, little star,\n",
      "      How I wonder what you are\n"
     ]
    }
   ],
   "source": [
    "# Assignment - 01\n",
    "# Task-01\n",
    "\n",
    "print (\"Twinkle, twinkle, little star,\");\n",
    "print (\"      How I wonder what you are!\");\n",
    "print (\"            Up above the world so high,\");\n",
    "print(\"             Like a diamond in the sky.\");\n",
    "print (\"Twinkle, twinkle, little star,\");\n",
    "print (\"      How I wonder what you are\");"
   ]
  },
  {
   "cell_type": "code",
   "execution_count": 9,
   "metadata": {},
   "outputs": [
    {
     "name": "stdout",
     "output_type": "stream",
     "text": [
      "3.7.4\n"
     ]
    }
   ],
   "source": [
    "# Assignment - 01\n",
    "# Task-02\n",
    "\n",
    "from platform import python_version;\n",
    "print(python_version());"
   ]
  },
  {
   "cell_type": "code",
   "execution_count": 8,
   "metadata": {},
   "outputs": [
    {
     "name": "stdout",
     "output_type": "stream",
     "text": [
      "Current date and time: \n",
      "2019-11-01 22:27:57\n",
      "22:27:57 on Friday, November 01, 2019\n"
     ]
    }
   ],
   "source": [
    "# Assignment - 01\n",
    "# Task-03\n",
    "\n",
    "import datetime;\n",
    "date_time = datetime.datetime.now();\n",
    "\n",
    "print(\"Current date and time: \");\n",
    "print(date_time.strftime('%Y-%m-%d %H:%M:%S'));\n",
    "print(date_time.strftime('%H:%M:%S on %A, %B %d, %Y'));"
   ]
  },
  {
   "cell_type": "code",
   "execution_count": 13,
   "metadata": {},
   "outputs": [
    {
     "name": "stdout",
     "output_type": "stream",
     "text": [
      "Enter the radius of circle to compute the area: 5\n",
      "The area of the circle is computed to be: \n",
      "78.53981625\n"
     ]
    }
   ],
   "source": [
    "# Assignment - 01\n",
    "# Task-04\n",
    "\n",
    "pi = 3.14159265;    #correct up to 8 decimal places\n",
    "radius = float (input (\"Enter the radius of circle to compute the area: \"));\n",
    "area = pi * (radius*radius);\n",
    "print(\"The area of the circle is computed to be: \");\n",
    "print(area);"
   ]
  },
  {
   "cell_type": "code",
   "execution_count": 15,
   "metadata": {},
   "outputs": [
    {
     "name": "stdout",
     "output_type": "stream",
     "text": [
      "Enter your first name: Muhammad Bilal\n",
      "Enter your last name: Siddiqui\n",
      "Your name in reverse order is: \n",
      "Siddiqui Muhammad Bilal\n"
     ]
    }
   ],
   "source": [
    "# Assignment - 01\n",
    "# Task-05\n",
    "\n",
    "first_name = input (\"Enter your first name: \");\n",
    "last_name = input (\"Enter your last name: \");\n",
    "\n",
    "print(\"Your name in reverse order is: \");\n",
    "print(last_name + \" \" + first_name);"
   ]
  },
  {
   "cell_type": "code",
   "execution_count": 18,
   "metadata": {},
   "outputs": [
    {
     "name": "stdout",
     "output_type": "stream",
     "text": [
      "Enter the first number: 4\n",
      "Enter the second number: 3\n",
      "The addition of the two numbers yields: \n",
      "7.0\n"
     ]
    }
   ],
   "source": [
    "# Assignment - 01\n",
    "# Task-06a (Adding two numbers mathematically)\n",
    "\n",
    "first_num = float(input (\"Enter the first number: \"));\n",
    "second_num = float(input (\"Enter the second number: \"));\n",
    "sum = first_num + second_num;\n",
    "print (\"The addition of the two numbers yields: \");\n",
    "print (sum);"
   ]
  },
  {
   "cell_type": "code",
   "execution_count": 20,
   "metadata": {},
   "outputs": [
    {
     "name": "stdout",
     "output_type": "stream",
     "text": [
      "Enter the first number: Bilal\n",
      "Enter the second number: 21\n",
      "The addition of the two inputs yields: Bilal21\n"
     ]
    }
   ],
   "source": [
    "# Assignment - 01\n",
    "# Task-06b (Showing two inputs added as string)\n",
    "\n",
    "first_ip = input (\"Enter the first number: \");\n",
    "second_ip = input (\"Enter the second number: \");\n",
    "sum = first_ip + second_ip;\n",
    "print (\"The addition of the two inputs yields: \" + sum)"
   ]
  },
  {
   "cell_type": "code",
   "execution_count": null,
   "metadata": {},
   "outputs": [],
   "source": []
  }
 ],
 "metadata": {
  "kernelspec": {
   "display_name": "Python 3",
   "language": "python",
   "name": "python3"
  },
  "language_info": {
   "codemirror_mode": {
    "name": "ipython",
    "version": 3
   },
   "file_extension": ".py",
   "mimetype": "text/x-python",
   "name": "python",
   "nbconvert_exporter": "python",
   "pygments_lexer": "ipython3",
   "version": "3.7.4"
  }
 },
 "nbformat": 4,
 "nbformat_minor": 2
}
